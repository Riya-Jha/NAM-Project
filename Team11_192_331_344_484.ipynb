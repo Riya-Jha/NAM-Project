{
  "cells": [
    {
      "attachments": {},
      "cell_type": "markdown",
      "metadata": {
        "id": "_8nv-mo0WScs"
      },
      "source": [
        "### Project Title: \n",
        "## Prediction of molecular properties using graphs\n",
        "\n",
        "### Team Members\n",
        "\n",
        "* PES1UG20CS192 - KANUMARI SRI CHARAN (Section D)\n",
        "* PES1UG20CS331 - RENITA KURIAN (Section F)\n",
        "* PES1UG20CS344 - RIYA JHA (Section F)\n",
        "* PES1UG20CS484 - VANSHIKA GOEL (Section H)"
      ]
    },
    {
      "attachments": {},
      "cell_type": "markdown",
      "metadata": {
        "id": "2iY5sqeKekTA"
      },
      "source": [
        "#### Version Details\n",
        "*   DeepChem: 2.7.2.dev\n",
        "*   TensorFlow: 2.12.0\n",
        "\n"
      ]
    },
    {
      "cell_type": "markdown",
      "metadata": {
        "id": "b9G5B9DWWXFx"
      },
      "source": [
        "## Installing Deepchem and Loading Dataset"
      ]
    },
    {
      "cell_type": "code",
      "execution_count": 1,
      "metadata": {
        "colab": {
          "base_uri": "https://localhost:8080/"
        },
        "id": "_nNZvXQWWYRM",
        "outputId": "9354273f-7231-4d60-dbe4-9734a037e9d2"
      },
      "outputs": [
        {
          "name": "stderr",
          "output_type": "stream",
          "text": [
            "\n",
            "[notice] A new release of pip is available: 23.1 -> 23.1.1\n",
            "[notice] To update, run: python.exe -m pip install --upgrade pip\n"
          ]
        },
        {
          "name": "stdout",
          "output_type": "stream",
          "text": [
            "Requirement already satisfied: deepchem in c:\\users\\sricharank\\appdata\\local\\programs\\python\\python310\\lib\\site-packages (2.7.1)\n",
            "Requirement already satisfied: joblib in c:\\users\\sricharank\\appdata\\local\\programs\\python\\python310\\lib\\site-packages (from deepchem) (1.2.0)\n",
            "Requirement already satisfied: numpy>=1.21 in c:\\users\\sricharank\\appdata\\local\\programs\\python\\python310\\lib\\site-packages (from deepchem) (1.23.5)\n",
            "Requirement already satisfied: pandas in c:\\users\\sricharank\\appdata\\local\\programs\\python\\python310\\lib\\site-packages (from deepchem) (1.5.2)\n",
            "Requirement already satisfied: scikit-learn in c:\\users\\sricharank\\appdata\\local\\programs\\python\\python310\\lib\\site-packages (from deepchem) (1.1.3)\n",
            "Requirement already satisfied: scipy<1.9 in c:\\users\\sricharank\\appdata\\local\\programs\\python\\python310\\lib\\site-packages (from deepchem) (1.8.1)\n",
            "Requirement already satisfied: rdkit in c:\\users\\sricharank\\appdata\\local\\programs\\python\\python310\\lib\\site-packages (from deepchem) (2022.9.5)\n",
            "Requirement already satisfied: python-dateutil>=2.8.1 in c:\\users\\sricharank\\appdata\\local\\programs\\python\\python310\\lib\\site-packages (from pandas->deepchem) (2.8.2)\n",
            "Requirement already satisfied: pytz>=2020.1 in c:\\users\\sricharank\\appdata\\local\\programs\\python\\python310\\lib\\site-packages (from pandas->deepchem) (2022.6)\n",
            "Requirement already satisfied: Pillow in c:\\users\\sricharank\\appdata\\local\\programs\\python\\python310\\lib\\site-packages (from rdkit->deepchem) (9.3.0)\n",
            "Requirement already satisfied: threadpoolctl>=2.0.0 in c:\\users\\sricharank\\appdata\\local\\programs\\python\\python310\\lib\\site-packages (from scikit-learn->deepchem) (3.1.0)\n",
            "Requirement already satisfied: six>=1.5 in c:\\users\\sricharank\\appdata\\local\\programs\\python\\python310\\lib\\site-packages (from python-dateutil>=2.8.1->pandas->deepchem) (1.16.0)\n"
          ]
        },
        {
          "name": "stderr",
          "output_type": "stream",
          "text": [
            "Skipped loading modules with pytorch-lightning dependency, missing a dependency. No module named 'pytorch_lightning'\n",
            "Skipped loading some Jax models, missing a dependency. No module named 'jax'\n"
          ]
        }
      ],
      "source": [
        "# Installing Deepchem\n",
        "!pip install --pre deepchem\n",
        "# Import deepchem just to check the version\n",
        "import deepchem\n",
        "#deepchem.__version__"
      ]
    },
    {
      "cell_type": "markdown",
      "metadata": {
        "id": "xBf-M1QtWb0b"
      },
      "source": [
        "# Importing required libraries and its utilities\n"
      ]
    },
    {
      "cell_type": "code",
      "execution_count": 2,
      "metadata": {
        "id": "I6RWsq6xWaII"
      },
      "outputs": [],
      "source": [
        "import numpy as np\n",
        "\n",
        "np.random.seed(123)\n",
        "import tensorflow as tf\n",
        "\n",
        "tf.random.set_seed(123)\n",
        "import deepchem as dc\n",
        "from deepchem.molnet import load_tox21\n",
        "from deepchem.models.graph_models import GraphConvModel\n",
        "from deepchem.data import NumpyDataset\n",
        "from rdkit import Chem\n",
        "from deepchem.molnet import load_tox21\n",
        "\n",
        "# tf.__version__\n",
        "import pandas as pd\n",
        "import matplotlib.pyplot as plt"
      ]
    },
    {
      "cell_type": "code",
      "execution_count": 3,
      "metadata": {
        "id": "2TScFwvPWeNy"
      },
      "outputs": [],
      "source": [
        "import tempfile\n",
        "from sklearn.svm import SVC"
      ]
    },
    {
      "cell_type": "markdown",
      "metadata": {
        "id": "wzn_Ue1XWjDm"
      },
      "source": [
        "### Load Tox21 dataset\n"
      ]
    },
    {
      "cell_type": "code",
      "execution_count": 4,
      "metadata": {
        "colab": {
          "base_uri": "https://localhost:8080/"
        },
        "id": "5BflQeVAWgOa",
        "outputId": "503d334f-123f-4cfd-a0fb-f89dd8ee5e1d"
      },
      "outputs": [],
      "source": [
        "n_features = 1024\n",
        "tox21_tasks, tox21_datasets, transformers = dc.molnet.load_tox21()\n",
        "train_dataset, valid_dataset, test_dataset = tox21_datasets"
      ]
    },
    {
      "cell_type": "markdown",
      "metadata": {
        "id": "Eij31Uq-WnXb"
      },
      "source": [
        "### Description of Dataset\n",
        "The Tox21 dataset consists of 12 binary classification tasks that assess the activity of compounds against specific biological targets. Here's an overview of each task:\n",
        "\n",
        "NR-AR (Nuclear Receptor Androgen Receptor): Measures the activity of compounds on the androgen receptor.\n",
        "\n",
        "NR-AR-LBD (Nuclear Receptor Androgen Receptor Ligand Binding Domain): Assesses the ligand binding activity of compounds to the ligand binding domain of the androgen receptor.\n",
        "\n",
        "NR-AhR (Nuclear Receptor Aryl Hydrocarbon Receptor): Evaluates the activity of compounds on the aryl hydrocarbon receptor.\n",
        "\n",
        "NR-Aromatase (Nuclear Receptor Aromatase): Measures the inhibitory activity of compounds on the aromatase enzyme.\n",
        "\n",
        "NR-ER (Nuclear Receptor Estrogen Receptor): Assesses the activity of compounds on the estrogen receptor.\n",
        "\n",
        "NR-ER-LBD (Nuclear Receptor Estrogen Receptor Ligand Binding Domain): Measures the ligand binding activity of compounds to the ligand binding domain of the estrogen receptor.\n",
        "\n",
        "NR-PPAR-gamma (Nuclear Receptor Peroxisome Proliferator-Activated Receptor Gamma): Evaluates the activity of compounds on the peroxisome proliferator-activated receptor gamma.\n",
        "\n",
        "SR-ARE (Stress Response Antioxidant Response Element): Assesses the activation of the antioxidant response element pathway by compounds.\n",
        "\n",
        "SR-ATAD5 (Stress Response Ataxia Telangiectasia Mutated Serine/Threonine Kinase Substrate): Measures the genotoxicity of compounds by evaluating their interaction with the Ataxia Telangiectasia Mutated kinase substrate.\n",
        "\n",
        "SR-HSE (Stress Response Heat Shock Response Element): Evaluates the activation of the heat shock response element pathway by compounds.\n",
        "\n",
        "SR-MMP (Stress Response Matrix Metalloproteinase): Assesses the inhibitory activity of compounds on matrix metalloproteinases.\n",
        "\n",
        "SR-p53 (Stress Response p53 Pathway): Measures the activation of the p53 pathway by compounds."
      ]
    },
    {
      "cell_type": "markdown",
      "metadata": {
        "id": "PBvcAbAuWqIQ"
      },
      "source": [
        "## Visualizing Compounds from the Database"
      ]
    },
    {
      "cell_type": "code",
      "execution_count": 5,
      "metadata": {
        "colab": {
          "base_uri": "https://localhost:8080/",
          "height": 386
        },
        "id": "U7ujMRoqWqoy",
        "outputId": "87add32e-57c0-43aa-aa7e-c96443156b11"
      },
      "outputs": [
        {
          "name": "stdout",
          "output_type": "stream",
          "text": [
            "Requirement already satisfied: rdkit in c:\\users\\sricharank\\appdata\\local\\programs\\python\\python310\\lib\\site-packages (2022.9.5)\n",
            "Requirement already satisfied: numpy in c:\\users\\sricharank\\appdata\\local\\programs\\python\\python310\\lib\\site-packages (from rdkit) (1.23.5)\n",
            "Requirement already satisfied: Pillow in c:\\users\\sricharank\\appdata\\local\\programs\\python\\python310\\lib\\site-packages (from rdkit) (9.3.0)\n"
          ]
        },
        {
          "name": "stderr",
          "output_type": "stream",
          "text": [
            "\n",
            "[notice] A new release of pip is available: 23.1 -> 23.1.1\n",
            "[notice] To update, run: python.exe -m pip install --upgrade pip\n"
          ]
        },
        {
          "data": {
            "image/png": "[encoded data removed]",
            "text/plain": [
              "<PIL.PngImagePlugin.PngImageFile image mode=RGB size=300x300>"
            ]
          },
          "execution_count": 5,
          "metadata": {},
          "output_type": "execute_result"
        }
      ],
      "source": [
        "!pip install rdkit\n",
        "from rdkit.Chem import Draw\n",
        "# Select a molecule from the dataset\n",
        "molecule_smiles = train_dataset.ids[0]\n",
        "\n",
        "# Convert the SMILES string to an RDKit molecule object\n",
        "molecule = Chem.MolFromSmiles(molecule_smiles)\n",
        "\n",
        "# Render the molecule in a Jupyter notebook cell\n",
        "img = Draw.MolToImage(molecule, size=(300, 300))\n",
        "img"
      ]
    },
    {
      "cell_type": "markdown",
      "metadata": {
        "id": "vhOewyovXLk2"
      },
      "source": [
        "#SVM Model"
      ]
    },
    {
      "cell_type": "markdown",
      "metadata": {
        "id": "8MWJEAtAWtah"
      },
      "source": [
        "### Training SVM Model"
      ]
    },
    {
      "cell_type": "code",
      "execution_count": 6,
      "metadata": {
        "id": "U2v7SAPrWvGw"
      },
      "outputs": [],
      "source": [
        "# Define metric for the model\n",
        "metric = dc.metrics.Metric(dc.metrics.roc_auc_score)"
      ]
    },
    {
      "cell_type": "code",
      "execution_count": 7,
      "metadata": {
        "id": "47OuaF31Wvt5"
      },
      "outputs": [],
      "source": [
        "def model_builder(model_dir):\n",
        "  sklearn_model = SVC(C=1.0, class_weight=\"balanced\", probability=True)\n",
        "  return dc.models.SklearnModel(sklearn_model, model_dir)"
      ]
    },
    {
      "cell_type": "code",
      "execution_count": 8,
      "metadata": {
        "colab": {
          "base_uri": "https://localhost:8080/",
          "height": 329
        },
        "id": "ulFLG1XsWxQL",
        "outputId": "b8e065cb-d574-42a3-d8e6-52e771bc906f"
      },
      "outputs": [],
      "source": [
        "model = dc.models.SingletaskToMultitask(tox21_tasks, model_builder)\n",
        "model.fit(train_dataset)"
      ]
    },
    {
      "cell_type": "markdown",
      "metadata": {
        "id": "twQ9BPmyW2re"
      },
      "source": [
        "### Evaluating the Model"
      ]
    },
    {
      "cell_type": "code",
      "execution_count": 9,
      "metadata": {
        "id": "uWfnxV6MW3BJ"
      },
      "outputs": [
        {
          "name": "stdout",
          "output_type": "stream",
          "text": [
            "Train scores\t 0.996216850531365\n",
            "Validation scores\t 0.74177858003122\n"
          ]
        }
      ],
      "source": [
        "train_scores = model.evaluate(train_dataset, [metric], transformers)\n",
        "valid_scores = model.evaluate(valid_dataset, [metric], transformers)\n",
        "\n",
        "print(\"Train scores\\t\", train_scores['roc_auc_score'])\n",
        "print(\"Validation scores\\t\", valid_scores['roc_auc_score'])"
      ]
    },
    {
      "cell_type": "markdown",
      "metadata": {
        "id": "YaLNOiWfW7AM"
      },
      "source": [
        "## Predicting Properties of a given molecule"
      ]
    },
    {
      "cell_type": "code",
      "execution_count": 10,
      "metadata": {
        "id": "PBPiIyamW722"
      },
      "outputs": [],
      "source": [
        "compound_index = 10\n",
        "\n",
        "compound = tox21_datasets[0].X[compound_index]\n",
        "compound_batch = np.expand_dims(compound, axis=0)\n",
        "predictions = model.predict_on_batch(compound_batch)\n",
        "compound_predictions = predictions[0]"
      ]
    },
    {
      "cell_type": "code",
      "execution_count": 11,
      "metadata": {
        "id": "I1h-2snVW-Qi"
      },
      "outputs": [
        {
          "name": "stdout",
          "output_type": "stream",
          "text": [
            "NR-AR: [0.98931473 0.01068527]\n",
            "NR-AR-LBD: [0.99402269 0.00597731]\n",
            "NR-AhR: [0.9848092 0.0151908]\n",
            "NR-Aromatase: [0.99544872 0.00455128]\n",
            "NR-ER: [0.80830342 0.19169658]\n",
            "NR-ER-LBD: [0.99307563 0.00692437]\n",
            "NR-PPAR-gamma: [0.9924484 0.0075516]\n",
            "SR-ARE: [0.98834183 0.01165817]\n",
            "SR-ATAD5: [0.99617958 0.00382042]\n",
            "SR-HSE: [0.98535919 0.01464081]\n",
            "SR-MMP: [0.98239739 0.01760261]\n",
            "SR-p53: [0.99568622 0.00431378]\n"
          ]
        }
      ],
      "source": [
        "for task_name, predicted_value in zip(tox21_tasks, compound_predictions):\n",
        "    print(f\"{task_name}: {predicted_value}\")"
      ]
    },
    {
      "cell_type": "code",
      "execution_count": 12,
      "metadata": {
        "id": "lEbLgEZtXAQm"
      },
      "outputs": [
        {
          "name": "stdout",
          "output_type": "stream",
          "text": [
            "NR-ER\n"
          ]
        }
      ],
      "source": [
        "# Print out properties that molecule tested positive for\n",
        "# ie. properties where prediction above threshold\n",
        "\n",
        "taskval = 0\n",
        "threshold = 0.1\n",
        "\n",
        "for val in compound_predictions:\n",
        "  if(val[1]>threshold):\n",
        "    print(tox21_tasks[taskval])\n",
        "  taskval = taskval + 1"
      ]
    },
    {
      "cell_type": "markdown",
      "metadata": {
        "id": "0NzATaQiXAD6"
      },
      "source": [
        "In the context of the 'NR-AR' task, a predicted value of 1 indicates that the compound is predicted to be active in binding to the androgen receptor. This means that the compound has a higher likelihood of interacting with the receptor and potentially affecting the related biological pathway. However, whether this activity is considered toxic or not depends on the specific application, desired effects, and the potential consequences of modulating the androgen receptor pathway.\n",
        "\n"
      ]
    },
    {
      "attachments": {},
      "cell_type": "markdown",
      "metadata": {
        "id": "2fkEezwBXPmD"
      },
      "source": [
        "### Graph based Models - GCN, GAT and GGCN"
      ]
    },
    {
      "cell_type": "code",
      "execution_count": 13,
      "metadata": {
        "id": "i6CqVlTbXHl0"
      },
      "outputs": [],
      "source": [
        "# Tox21 is a part of Deepchem library\n",
        "# so we can convieniently download it using load_tox21 function\n",
        "tox21_tasks, tox21_datasets, transformers = load_tox21(featurizer='GraphConv')\n",
        "train_dataset, valid_dataset, test_dataset = tox21_datasets"
      ]
    },
    {
      "attachments": {},
      "cell_type": "markdown",
      "metadata": {
        "id": "ZG4heReaXoxE"
      },
      "source": [
        "#### GCN Model\n",
        "\n"
      ]
    },
    {
      "cell_type": "code",
      "execution_count": 14,
      "metadata": {
        "id": "u5rbLa9YXoKA"
      },
      "outputs": [
        {
          "name": "stdout",
          "output_type": "stream",
          "text": [
            "Fitting the model\n"
          ]
        },
        {
          "data": {
            "text/plain": [
              "0.663873036702474"
            ]
          },
          "execution_count": 14,
          "metadata": {},
          "output_type": "execute_result"
        }
      ],
      "source": [
        "# Define and fit the model\n",
        "GCN_model = GraphConvModel(len(tox21_tasks), \n",
        "                       batch_size=32,\n",
        "                       activation_fn=tf.nn.relu,\n",
        "                       mode='classification')\n",
        "print(\"Fitting the model\")\n",
        "GCN_model.fit(train_dataset, nb_epoch=10)"
      ]
    },
    {
      "cell_type": "code",
      "execution_count": 15,
      "metadata": {
        "id": "tOanYn7aXrVr"
      },
      "outputs": [
        {
          "name": "stdout",
          "output_type": "stream",
          "text": [
            "Evaluating model with ROC AUC\n"
          ]
        }
      ],
      "source": [
        "print(\"Evaluating model with ROC AUC\")\n",
        "train_scores = GCN_model.evaluate(train_dataset, [metric], transformers)\n",
        "valid_scores = GCN_model.evaluate(valid_dataset, [metric], transformers)"
      ]
    },
    {
      "cell_type": "code",
      "execution_count": 16,
      "metadata": {
        "id": "iTKP8HdTXsWf"
      },
      "outputs": [
        {
          "name": "stdout",
          "output_type": "stream",
          "text": [
            "Train scores\n",
            "{'roc_auc_score': 0.9011293673670222}\n",
            "Validation scores\n",
            "{'roc_auc_score': 0.7242865308604531}\n"
          ]
        }
      ],
      "source": [
        "print(\"Train scores\")\n",
        "print(train_scores)\n",
        "\n",
        "print(\"Validation scores\")\n",
        "print(valid_scores)"
      ]
    },
    {
      "attachments": {},
      "cell_type": "markdown",
      "metadata": {
        "id": "FbfJraysXtRW"
      },
      "source": [
        "#### GAT Model"
      ]
    },
    {
      "cell_type": "code",
      "execution_count": 17,
      "metadata": {
        "id": "euRnU_esXwy3"
      },
      "outputs": [
        {
          "name": "stdout",
          "output_type": "stream",
          "text": [
            "Fitting the model\n"
          ]
        },
        {
          "data": {
            "text/plain": [
              "0.8234849294026693"
            ]
          },
          "execution_count": 17,
          "metadata": {},
          "output_type": "execute_result"
        }
      ],
      "source": [
        "GAT_model = GraphConvModel(len(tox21_tasks), \n",
        "                 batch_size=32, \n",
        "                 mode='classification',\n",
        "                 dropout=0.2,\n",
        "                 activation_fn=tf.nn.relu,\n",
        "                 model_dir = 'gat_model')\n",
        "print(\"Fitting the model\")\n",
        "GAT_model.fit(train_dataset, nb_epoch=10)"
      ]
    },
    {
      "cell_type": "code",
      "execution_count": 18,
      "metadata": {
        "id": "Eu7Yq_E2XzQE"
      },
      "outputs": [
        {
          "name": "stdout",
          "output_type": "stream",
          "text": [
            "Evaluating model with ROC AUC\n"
          ]
        }
      ],
      "source": [
        "print(\"Evaluating model with ROC AUC\")\n",
        "train_scores = GAT_model.evaluate(train_dataset, [metric], transformers)\n",
        "valid_scores = GAT_model.evaluate(valid_dataset, [metric], transformers)"
      ]
    },
    {
      "cell_type": "code",
      "execution_count": 19,
      "metadata": {
        "id": "bVALCzNrX0Ug"
      },
      "outputs": [
        {
          "name": "stdout",
          "output_type": "stream",
          "text": [
            "Train scores\n",
            "{'roc_auc_score': 0.8501553670999931}\n",
            "Validation scores\n",
            "{'roc_auc_score': 0.7264629184591654}\n"
          ]
        }
      ],
      "source": [
        "print(\"Train scores\")\n",
        "print(train_scores)\n",
        "\n",
        "print(\"Validation scores\")\n",
        "print(valid_scores)"
      ]
    },
    {
      "attachments": {},
      "cell_type": "markdown",
      "metadata": {
        "id": "IjH7qlLJX1uf"
      },
      "source": [
        "#### Gated GCN Model"
      ]
    },
    {
      "cell_type": "code",
      "execution_count": 20,
      "metadata": {
        "id": "wTBLXCDuX3LP"
      },
      "outputs": [
        {
          "name": "stdout",
          "output_type": "stream",
          "text": [
            "Fitting the model\n"
          ]
        },
        {
          "data": {
            "text/plain": [
              "0.8479443232218424"
            ]
          },
          "execution_count": 20,
          "metadata": {},
          "output_type": "execute_result"
        }
      ],
      "source": [
        "# from deepchem.models import GatedGraphConvModel\n",
        "\n",
        "GGCN_model = GraphConvModel(\n",
        "    len(tox21_tasks),\n",
        "    batch_size=32,\n",
        "    mode = \"classification\",\n",
        "    dropout = 0.2,\n",
        "    activation_fn=tf.nn.relu,\n",
        "    model_dir='ggcn_model'\n",
        ")\n",
        "print(\"Fitting the model\")\n",
        "GGCN_model.fit(train_dataset, nb_epoch=10)"
      ]
    },
    {
      "cell_type": "code",
      "execution_count": 21,
      "metadata": {
        "id": "bhYxQIV0X4rz"
      },
      "outputs": [
        {
          "name": "stdout",
          "output_type": "stream",
          "text": [
            "Evaluating model with ROC AUC\n"
          ]
        }
      ],
      "source": [
        "print(\"Evaluating model with ROC AUC\")\n",
        "train_scores = GGCN_model.evaluate(train_dataset, [metric], transformers)\n",
        "valid_scores = GGCN_model.evaluate(valid_dataset, [metric], transformers)"
      ]
    },
    {
      "cell_type": "code",
      "execution_count": 22,
      "metadata": {
        "id": "WnHDTbQZX6Ry"
      },
      "outputs": [
        {
          "name": "stdout",
          "output_type": "stream",
          "text": [
            "Train scores\n",
            "{'roc_auc_score': 0.8488871049924797}\n",
            "Validation scores\n",
            "{'roc_auc_score': 0.7257281206663931}\n"
          ]
        }
      ],
      "source": [
        "print(\"Train scores\")\n",
        "print(train_scores)\n",
        "\n",
        "print(\"Validation scores\")\n",
        "print(valid_scores)"
      ]
    },
    {
      "cell_type": "markdown",
      "metadata": {
        "id": "VijJSLsHglL6"
      },
      "source": [
        "## Predictions for the Graph Network models"
      ]
    },
    {
      "cell_type": "code",
      "execution_count": 23,
      "metadata": {
        "id": "W6j6x361hfOy"
      },
      "outputs": [],
      "source": [
        "compound_index = 10\n",
        "compound = tox21_datasets[0].X[compound_index]\n",
        "compound_batch = np.expand_dims(compound, axis=0)"
      ]
    },
    {
      "cell_type": "markdown",
      "metadata": {
        "id": "OoihJ4KfhZb-"
      },
      "source": [
        "Firstly the GCN model"
      ]
    },
    {
      "cell_type": "code",
      "execution_count": 24,
      "metadata": {
        "id": "j1E-Qg1Mgk31"
      },
      "outputs": [],
      "source": [
        "predictions = GCN_model.predict_on_batch(compound_batch)\n",
        "compound_predictions = predictions[0]"
      ]
    },
    {
      "cell_type": "code",
      "execution_count": 25,
      "metadata": {},
      "outputs": [
        {
          "name": "stdout",
          "output_type": "stream",
          "text": [
            "NR-AR: [0.8350107  0.16498922]\n",
            "NR-AR-LBD: [0.98013544 0.01986449]\n",
            "NR-AhR: [0.86435246 0.13564757]\n",
            "NR-Aromatase: [9.993962e-01 6.037502e-04]\n",
            "NR-ER: [0.74250513 0.25749478]\n",
            "NR-ER-LBD: [0.9866917 0.0133083]\n",
            "NR-PPAR-gamma: [0.9958293  0.00417077]\n",
            "SR-ARE: [0.9910584 0.0089416]\n",
            "SR-ATAD5: [0.9967464  0.00325352]\n",
            "SR-HSE: [0.9597537  0.04024627]\n",
            "SR-MMP: [0.9938478  0.00615223]\n",
            "SR-p53: [0.9980501  0.00194993]\n"
          ]
        }
      ],
      "source": [
        "for task_name, predicted_value in zip(tox21_tasks, compound_predictions):\n",
        "    print(f\"{task_name}: {predicted_value}\")"
      ]
    },
    {
      "cell_type": "code",
      "execution_count": 26,
      "metadata": {},
      "outputs": [
        {
          "name": "stdout",
          "output_type": "stream",
          "text": [
            "NR-AR\n",
            "NR-AhR\n",
            "NR-ER\n"
          ]
        }
      ],
      "source": [
        "taskval = 0\n",
        "threshold = 0.1\n",
        "\n",
        "for val in compound_predictions:\n",
        "  if(val[1]>threshold):\n",
        "    print(tox21_tasks[taskval])\n",
        "  taskval = taskval + 1"
      ]
    },
    {
      "attachments": {},
      "cell_type": "markdown",
      "metadata": {},
      "source": [
        "GAT model predictions"
      ]
    },
    {
      "cell_type": "code",
      "execution_count": 27,
      "metadata": {},
      "outputs": [],
      "source": [
        "predictions = GAT_model.predict_on_batch(compound_batch)\n",
        "compound_predictions = predictions[0]"
      ]
    },
    {
      "cell_type": "code",
      "execution_count": 28,
      "metadata": {},
      "outputs": [
        {
          "name": "stdout",
          "output_type": "stream",
          "text": [
            "NR-AR: [0.85933304 0.14066692]\n",
            "NR-AR-LBD: [0.88434523 0.11565472]\n",
            "NR-AhR: [0.98227894 0.01772106]\n",
            "NR-Aromatase: [0.99442273 0.00557727]\n",
            "NR-ER: [0.80338514 0.19661486]\n",
            "NR-ER-LBD: [0.944622   0.05537799]\n",
            "NR-PPAR-gamma: [0.9754372  0.02456272]\n",
            "SR-ARE: [0.91628736 0.08371266]\n",
            "SR-ATAD5: [0.96432334 0.03567671]\n",
            "SR-HSE: [0.9122614 0.0877386]\n",
            "SR-MMP: [0.9890471  0.01095286]\n",
            "SR-p53: [0.9857253  0.01427473]\n"
          ]
        }
      ],
      "source": [
        "for task_name, predicted_value in zip(tox21_tasks, compound_predictions):\n",
        "    print(f\"{task_name}: {predicted_value}\")"
      ]
    },
    {
      "cell_type": "code",
      "execution_count": 29,
      "metadata": {},
      "outputs": [
        {
          "name": "stdout",
          "output_type": "stream",
          "text": [
            "NR-AR\n",
            "NR-AR-LBD\n",
            "NR-ER\n"
          ]
        }
      ],
      "source": [
        "taskval = 0\n",
        "threshold = 0.1\n",
        "\n",
        "for val in compound_predictions:\n",
        "  if(val[1]>threshold):\n",
        "    print(tox21_tasks[taskval])\n",
        "  taskval = taskval + 1"
      ]
    },
    {
      "attachments": {},
      "cell_type": "markdown",
      "metadata": {},
      "source": [
        "Lastly, the GGCN Model predictions"
      ]
    },
    {
      "cell_type": "code",
      "execution_count": 30,
      "metadata": {},
      "outputs": [],
      "source": [
        "predictions = GGCN_model.predict_on_batch(compound_batch)\n",
        "compound_predictions = predictions[0]"
      ]
    },
    {
      "cell_type": "code",
      "execution_count": 31,
      "metadata": {},
      "outputs": [
        {
          "name": "stdout",
          "output_type": "stream",
          "text": [
            "NR-AR: [0.7700172  0.22998281]\n",
            "NR-AR-LBD: [0.98123986 0.01876008]\n",
            "NR-AhR: [0.98258483 0.01741508]\n",
            "NR-Aromatase: [0.99762684 0.00237312]\n",
            "NR-ER: [0.8686609  0.13133907]\n",
            "NR-ER-LBD: [0.9619081  0.03809191]\n",
            "NR-PPAR-gamma: [0.96219176 0.03780825]\n",
            "SR-ARE: [0.982682   0.01731796]\n",
            "SR-ATAD5: [0.9919918  0.00800817]\n",
            "SR-HSE: [0.9809483  0.01905166]\n",
            "SR-MMP: [0.9974376 0.0025624]\n",
            "SR-p53: [0.99341875 0.00658117]\n"
          ]
        }
      ],
      "source": [
        "for task_name, predicted_value in zip(tox21_tasks, compound_predictions):\n",
        "    print(f\"{task_name}: {predicted_value}\")"
      ]
    },
    {
      "cell_type": "code",
      "execution_count": 32,
      "metadata": {},
      "outputs": [
        {
          "name": "stdout",
          "output_type": "stream",
          "text": [
            "NR-AR\n",
            "NR-ER\n"
          ]
        }
      ],
      "source": [
        "taskval = 0\n",
        "threshold = 0.1\n",
        "\n",
        "for val in compound_predictions:\n",
        "  if(val[1]>threshold):\n",
        "    print(tox21_tasks[taskval])\n",
        "  taskval = taskval + 1"
      ]
    },
    {
      "attachments": {},
      "cell_type": "markdown",
      "metadata": {},
      "source": [
        "As you can see, the GCN model predicts that the compound is active in binding to the androgen receptor. This is the same prediction that the SVM model made, with additional features going over the threshold such as the NR-AR and NR-AhR. The GAT model predicted that the NR-AR-LBD was over the threshold instead of the NR-AhR. The GGCN model predicted just the NR-AR and NR-ER to be over the threshold. "
      ]
    }
  ],
  "metadata": {
    "colab": {
      "provenance": []
    },
    "kernelspec": {
      "display_name": "Python 3",
      "name": "python3"
    },
    "language_info": {
      "codemirror_mode": {
        "name": "ipython",
        "version": 3
      },
      "file_extension": ".py",
      "mimetype": "text/x-python",
      "name": "python",
      "nbconvert_exporter": "python",
      "pygments_lexer": "ipython3",
      "version": "3.10.7"
    }
  },
  "nbformat": 4,
  "nbformat_minor": 0
}
